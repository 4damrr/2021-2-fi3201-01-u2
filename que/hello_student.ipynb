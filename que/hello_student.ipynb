{
 "cells": [
  {
   "cell_type": "code",
   "execution_count": 1,
   "id": "ebbd69cc",
   "metadata": {},
   "outputs": [],
   "source": [
    "import sys, os\n",
    "sys.path.insert(1, os.path.join(sys.path[0], '..'))\n",
    "from src.student import Students as stu"
   ]
  },
  {
   "cell_type": "code",
   "execution_count": 2,
   "id": "3877984d",
   "metadata": {},
   "outputs": [
    {
     "name": "stdout",
     "output_type": "stream",
     "text": [
      "10215075 Ahmad Nawwaaf anawwaaf\n",
      "10218009 Akram Akbar Amin AkramAkbarAmin\n",
      "10218010 Dhika Arya R.B. realdhikaarya\n",
      "10218023 Amanda Lathifah amanda248la\n",
      "10218062 Salma Aqilah Zahroh salmaaqilahzahroh\n",
      "10218100 Nabila As Syifa nabilaassyf\n",
      "10219001 Fernanda Adekeu Alif dekeu1\n",
      "10219012 Faiz Aulia Rahman rahmanfaiz\n",
      "10219017 Lasma Evita Helena lasmaevitahelena\n",
      "10219019 Abdu Rafie rajaabdurafie\n",
      "10219020 Jonathan Adriel JonathanAdriel\n",
      "10219021 Hartanto Wijaya HartantoWijaya\n",
      "10219025 Asla Roudhatu Rohmah AslaRoudhatuRohmah\n",
      "10219029 Isnaini Mufidhatul Mughni isnainimufidhatulmughni\n",
      "10219031 Yoda Taruna Hidayah YodaTaruna\n",
      "10219033 Aniesah Akhyar Aniesah\n",
      "10219034 Clarisa Andrienny Natasya Clarisa00\n",
      "10219035 Dinda Fahrila Suci Ramadhani dindafahrila\n",
      "10219036 Jeremy David Dipahotma \n",
      "10219039 Elen Mengtan Kwandou elenkwan\n",
      "10219040 Ridwan Muhammad Syahrul RidwanMSyahrul\n",
      "10219043 Alya Ismia Rusdiana alyarusdiana10\n",
      "10219044 Tommy Arisandiko \n",
      "10219048 Said Husain \n",
      "10219051 Clarissa Ivana Yuwono clarissaivana\n",
      "10219052 Tiara Novis Saputri tiaranovis\n",
      "10219058 Isep Robi Awaludin iseprobi\n",
      "10219066 Marshanda Tiana Sarjito MarshandaTiana\n",
      "10219069 R R Zahra Auliya S RRZahra\n",
      "10219070 Shabrina Adha Indraswari shabrinaadhai\n",
      "10219074 Muhammad Farhan chromaaxion\n",
      "10219079 Adam Raihan Ramadhani 4damrr\n",
      "10219082 Rahmalia Nur Azizah RahmaliaNur\n",
      "10219084 Avima Haamesha mahaamesha\n",
      "10219085 Meyke Putri Dalla Meykeputri\n",
      "10219086 Rossa Bella Adhina \n",
      "10219088 Dimas Fasdhia Daniswara dimasdaniswara\n",
      "10219091 Qoid Abrori Syakuro Abrorisya\n",
      "10219093 Dian Retno Anggraini Ekawati dianrae\n",
      "10219095 Nungky Andriani Dinar W. nungkyadw\n",
      "10219098 Aldian Nur Azmar AldianNurAzmar\n",
      "10219099 Annisa Kemala Sari annisakss\n",
      "10219100 Ryan Dwigiantara Ryandwigiantara\n",
      "10219101 Muhammad Ervandy Rachmat ErvandyR\n",
      "10219112 Hanz Hamzah Kusumah HanzHamzahK\n"
     ]
    }
   ],
   "source": [
    "for nim in stu:\n",
    "    print(nim, ' ', stu[nim]['name'], ' ', stu[nim]['github'], sep='')\n"
   ]
  },
  {
   "cell_type": "code",
   "execution_count": null,
   "id": "023e7d38",
   "metadata": {},
   "outputs": [],
   "source": []
  }
 ],
 "metadata": {
  "kernelspec": {
   "display_name": "Python 3 (ipykernel)",
   "language": "python",
   "name": "python3"
  },
  "language_info": {
   "codemirror_mode": {
    "name": "ipython",
    "version": 3
   },
   "file_extension": ".py",
   "mimetype": "text/x-python",
   "name": "python",
   "nbconvert_exporter": "python",
   "pygments_lexer": "ipython3",
   "version": "3.10.4"
  }
 },
 "nbformat": 4,
 "nbformat_minor": 5
}
