{
 "cells": [
  {
   "cell_type": "code",
   "execution_count": 1,
   "id": "ebbd69cc",
   "metadata": {},
   "outputs": [],
   "source": [
    "import sys, os\n",
    "sys.path.insert(1, os.path.join(sys.path[0], '..'))\n",
    "from src.student import Students as stu"
   ]
  },
  {
   "cell_type": "code",
   "execution_count": 2,
   "id": "5963fd8c",
   "metadata": {},
   "outputs": [
    {
     "name": "stdout",
     "output_type": "stream",
     "text": [
      "NIM = 10218100\n",
      "Name = Nabila As Syifa\n",
      "GitHub = \n"
     ]
    }
   ],
   "source": [
    "nim = 10218100\n",
    "print('NIM = ', nim, sep='')\n",
    "print('Name = ', stu[nim]['name'], sep='')\n",
    "print('GitHub = ', stu[nim]['github'], sep='')"
   ]
  },
  {
   "cell_type": "code",
   "execution_count": null,
   "id": "3877984d",
   "metadata": {},
   "outputs": [],
   "source": []
  }
 ],
 "metadata": {
  "kernelspec": {
   "display_name": "Python 3 (ipykernel)",
   "language": "python",
   "name": "python3"
  },
  "language_info": {
   "codemirror_mode": {
    "name": "ipython",
    "version": 3
   },
   "file_extension": ".py",
   "mimetype": "text/x-python",
   "name": "python",
   "nbconvert_exporter": "python",
   "pygments_lexer": "ipython3",
   "version": "3.10.4"
  }
 },
 "nbformat": 4,
 "nbformat_minor": 5
}
