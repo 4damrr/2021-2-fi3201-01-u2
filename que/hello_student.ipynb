{
 "cells": [
  {
   "cell_type": "code",
   "execution_count": 17,
   "id": "d47bf0ff",
   "metadata": {},
   "outputs": [],
   "source": [
    "import sys, os\n",
    "sys.path.insert(1, os.path.join(sys.path[0], '..'))\n",
    "from src.student import Students as stu"
   ]
  },
  {
   "cell_type": "code",
   "execution_count": 18,
   "id": "3ccf627b",
   "metadata": {},
   "outputs": [
    {
     "name": "stdout",
     "output_type": "stream",
     "text": [
      "NIM = 10218100\n",
      "Name = Nabila As Syifa\n"
     ]
    },
    {
     "ename": "KeyError",
     "evalue": "'github'",
     "output_type": "error",
     "traceback": [
      "\u001b[1;31m---------------------------------------------------------------------------\u001b[0m",
      "\u001b[1;31mKeyError\u001b[0m                                  Traceback (most recent call last)",
      "Input \u001b[1;32mIn [18]\u001b[0m, in \u001b[0;36m<cell line: 4>\u001b[1;34m()\u001b[0m\n\u001b[0;32m      2\u001b[0m \u001b[38;5;28mprint\u001b[39m(\u001b[38;5;124m'\u001b[39m\u001b[38;5;124mNIM = \u001b[39m\u001b[38;5;124m'\u001b[39m, nim, sep\u001b[38;5;241m=\u001b[39m\u001b[38;5;124m'\u001b[39m\u001b[38;5;124m'\u001b[39m)\n\u001b[0;32m      3\u001b[0m \u001b[38;5;28mprint\u001b[39m(\u001b[38;5;124m'\u001b[39m\u001b[38;5;124mName = \u001b[39m\u001b[38;5;124m'\u001b[39m, stu[nim][\u001b[38;5;124m'\u001b[39m\u001b[38;5;124mname\u001b[39m\u001b[38;5;124m'\u001b[39m], sep\u001b[38;5;241m=\u001b[39m\u001b[38;5;124m'\u001b[39m\u001b[38;5;124m'\u001b[39m)\n\u001b[1;32m----> 4\u001b[0m \u001b[38;5;28mprint\u001b[39m(\u001b[38;5;124m'\u001b[39m\u001b[38;5;124mGitHub = \u001b[39m\u001b[38;5;124m'\u001b[39m, \u001b[43mstu\u001b[49m\u001b[43m[\u001b[49m\u001b[43mnim\u001b[49m\u001b[43m]\u001b[49m\u001b[43m[\u001b[49m\u001b[38;5;124;43m'\u001b[39;49m\u001b[38;5;124;43mgithub\u001b[39;49m\u001b[38;5;124;43m'\u001b[39;49m\u001b[43m]\u001b[49m, sep\u001b[38;5;241m=\u001b[39m\u001b[38;5;124m'\u001b[39m\u001b[38;5;124m'\u001b[39m)\n",
      "\u001b[1;31mKeyError\u001b[0m: 'github'"
     ]
    }
   ],
   "source": [
    "nim = 10218100\n",
    "print('NIM = ', nim, sep='')\n",
    "print('Name = ', stu[nim]['name'], sep='')\n",
    "print('GitHub = ', stu[nim]['github'], sep='')"
   ]
  },
  {
   "cell_type": "code",
   "execution_count": 11,
   "id": "3991f9c9",
   "metadata": {
    "scrolled": true
   },
   "outputs": [
    {
     "name": "stdout",
     "output_type": "stream",
     "text": [
      "10215075 Ahmad Nawwaaf \n",
      "10218009 Akram Akbar Amin \n",
      "10218010 Dhika Arya R.B. \n",
      "10218023 Amanda Lathifah \n",
      "10218062 Salma Aqilah Zahroh \n",
      "10218100 Nabila As Syifa \n",
      "10219001 Fernanda Adekeu Alif \n",
      "10219012 Faiz Aulia Rahman \n",
      "10219017 Lasma Evita Helena \n",
      "10219019 Abdu Rafie \n",
      "10219020 Jonathan Adriel \n",
      "10219021 Hartanto Wijaya \n",
      "10219025 Asla Roudhatu Rohmah \n",
      "10219029 Isnaini Mufidhatul Mughni \n",
      "10219031 Yoda Taruna Hidayah \n",
      "10219033 Aniesah Akhyar \n",
      "10219034 Clarisa Andrienny Natasya \n",
      "10219035 Dinda Fahrila Suci Ramadhani \n",
      "10219036 Jeremy David Dipahotma \n",
      "10219039 Elen Mengtan Kwandou \n",
      "10219040 Ridwan Muhammad Syahrul \n",
      "10219043 Alya Ismia Rusdiana \n",
      "10219044 Tommy Arisandiko \n",
      "10219048 Said Husain \n",
      "10219051 Clarissa Ivana Yuwono \n",
      "10219052 Tiara Novis Saputri \n",
      "10219058 Isep Robi Awaludin \n",
      "10219066 Marshanda Tiana Sarjito \n",
      "10219069 R R Zahra Auliya S \n",
      "10219070 Shabrina Adha Indraswari \n",
      "10219074 Muhammad Farhan \n",
      "10219079 Adam Raihan Ramadhani \n",
      "10219082 Rahmalia Nur Azizah \n",
      "10219084 Avima Haamesha \n",
      "10219085 Meyke Putri Dalla \n",
      "10219086 Rossa Bella Adhina \n",
      "10219088 Dimas Fasdhia Daniswara \n",
      "10219091 Qoid Abrori Syakuro \n",
      "10219093 Dian Retno Anggraini Ekawati \n",
      "10219095 Nungky Andriani Dinar W. \n",
      "10219098 Aldian Nur Azmar \n",
      "10219099 Annisa Kemala Sari \n",
      "10219100 Ryan Dwigiantara \n",
      "10219101 Muhammad Ervandy Rachmat \n",
      "10219112 Hanz Hamzah Kusumah \n"
     ]
    }
   ],
   "source": [
    "for nim in stu:\n",
    "    print(nim, stu[nim]['name'], stu[nim]['usr'])"
   ]
  },
  {
   "cell_type": "code",
   "execution_count": null,
   "id": "87f9f490",
   "metadata": {},
   "outputs": [],
   "source": []
  }
 ],
 "metadata": {
  "kernelspec": {
   "display_name": "Python 3 (ipykernel)",
   "language": "python",
   "name": "python3"
  },
  "language_info": {
   "codemirror_mode": {
    "name": "ipython",
    "version": 3
   },
   "file_extension": ".py",
   "mimetype": "text/x-python",
   "name": "python",
   "nbconvert_exporter": "python",
   "pygments_lexer": "ipython3",
   "version": "3.10.4"
  }
 },
 "nbformat": 4,
 "nbformat_minor": 5
}
